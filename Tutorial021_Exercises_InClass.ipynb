{
 "cells": [
  {
   "cell_type": "markdown",
   "metadata": {},
   "source": [
    "# in class exercises for 10.17.2018 (FFT + practice plotting + boolean indexing)\n",
    "\n",
    "[npy file format](https://www.numpy.org/devdocs/reference/generated/numpy.lib.format.html)\n",
    "\n",
    "[npz file format (save several arrays)](https://docs.scipy.org/doc/numpy-1.15.1/reference/generated/numpy.savez.html)\n",
    "\n",
    "[article about advantages of npy/npz format compared to csv and other common formats](https://towardsdatascience.com/why-you-should-start-using-npy-file-more-often-df2a13cc0161)\n",
    "\n"
   ]
  },
  {
   "cell_type": "markdown",
   "metadata": {},
   "source": [
    "## First import data from eeg_data00.npz"
   ]
  },
  {
   "cell_type": "code",
   "execution_count": 1,
   "metadata": {},
   "outputs": [],
   "source": [
    "# start by importing the modules that you'll need. \n",
    "import numpy as np\n",
    "import scipy.io as sio\n",
    "import matplotlib.pyplot as plt\n",
    "\n",
    "# also define the default font we'll use for figures. \n",
    "fig_font = {'fontname':'Arial', 'size':'20'}"
   ]
  },
  {
   "cell_type": "markdown",
   "metadata": {},
   "source": [
    "## load eeg_data00.npz...\n",
    "* you should find that it has three arrays: data, tx, and sr (with 'data' a #trials x # timepoints array containing the EEG data, the time of each data acquisition in tx, and the sample rate stored as sr).  "
   ]
  },
  {
   "cell_type": "code",
   "execution_count": 6,
   "metadata": {},
   "outputs": [
    {
     "name": "stdout",
     "output_type": "stream",
     "text": [
      "Shape of the big eeg data set:  (960, 876)\n",
      "Sample rate:  250\n"
     ]
    }
   ],
   "source": [
    "# load the data...\n",
    "eeg = np.load('eeg_data00.npz')\n",
    "\n",
    "# get the different arrays like this...kind of like a structure in matlab. \n",
    "eeg['data']\n",
    "eeg['sr']\n",
    "eeg['tx']\n",
    "\n",
    "# and can query the attributes of the data like this...which will tell us that there 960 trials and 876 timepoints per trial sampled\n",
    "# at 250Hz\n",
    "print('Shape of the big eeg data set: ', eeg['data'].shape)\n",
    "print('Sample rate: ', eeg['sr'])\n",
    "\n",
    "# and if you want to save some typing, especially because we only have a few variables, you reassign the different arrays like this\n",
    "data = eeg['data']\n",
    "sr = eeg['sr']\n",
    "tx = eeg['tx']\n",
    "# now you can just write data instead of eeg['data'] (and can for tx and sr as well...)"
   ]
  },
  {
   "cell_type": "markdown",
   "metadata": {},
   "source": [
    "## First - plot the data! (always do this first). \n",
    "* Compute the mean across all trials and then plot with tx on the xaxis. \n",
    "* Remember - good form is to specify the axis that you want to average over when using np.mean!"
   ]
  },
  {
   "cell_type": "code",
   "execution_count": 11,
   "metadata": {},
   "outputs": [
    {
     "data": {
      "image/png": "[encoded data removed]",
      "text/plain": [
       "<Figure size 432x288 with 1 Axes>"
      ]
     },
     "metadata": {
      "needs_background": "light"
     },
     "output_type": "display_data"
    }
   ],
   "source": [
    "meanEEG = np.mean(data, axis=0)\n",
    "\n",
    "plt.plot(tx, meanEEG)\n",
    "plt.show()\n"
   ]
  },
  {
   "cell_type": "markdown",
   "metadata": {},
   "source": [
    "## Now grab the data from time 0 until time 2000 and FFT it! \n",
    "* hint: you can use boolean indexing by selecting the columns from the 'data' matrix that meet: (tx>=0)  & (tx<2000)\n",
    "* while you're at it, go ahead and grab the timepoints corresponding to that interval as well so that you have an array for the x-axis of any plots"
   ]
  },
  {
   "cell_type": "code",
   "execution_count": 32,
   "metadata": {},
   "outputs": [
    {
     "name": "stdout",
     "output_type": "stream",
     "text": [
      "[False False False False False False False False False False False False\n",
      " False False False False False False False False False False False False\n",
      " False False False False False False False False False False False False\n",
      " False False False False False False False False False False False False\n",
      " False False False False False False False False False False False False\n",
      " False False False False False False False False False False False False\n",
      " False False False False False False False False False False False False\n",
      " False False False False False False False False False False False False\n",
      " False False False False False False False False False False False False\n",
      " False False False False False False False False False False False False\n",
      " False False False False False False False False False False False False\n",
      " False False False False False False False False False False False False\n",
      " False False False False False False False False False False False False\n",
      " False False False False False False False False False False False False\n",
      " False False False False False False False False False False False False\n",
      " False False False False False False False False False False False False\n",
      " False False False False False False False False False False False False\n",
      " False False False False False False False False False False False False\n",
      " False False False False False False False False False False False False\n",
      " False False False False False False False False False False False False\n",
      " False False False False False False False False False False  True  True\n",
      "  True  True  True  True  True  True  True  True  True  True  True  True\n",
      "  True  True  True  True  True  True  True  True  True  True  True  True\n",
      "  True  True  True  True  True  True  True  True  True  True  True  True\n",
      "  True  True  True  True  True  True  True  True  True  True  True  True\n",
      "  True  True  True  True  True  True  True  True  True  True  True  True\n",
      "  True  True  True  True  True  True  True  True  True  True  True  True\n",
      "  True  True  True  True  True  True  True  True  True  True  True  True\n",
      "  True  True  True  True  True  True  True  True  True  True  True  True\n",
      "  True  True  True  True  True  True  True  True  True  True  True  True\n",
      "  True  True  True  True  True  True  True  True  True  True  True  True\n",
      "  True  True  True  True  True  True  True  True  True  True  True  True\n",
      "  True  True  True  True  True  True  True  True  True  True  True  True\n",
      "  True  True  True  True  True  True  True  True  True  True  True  True\n",
      "  True  True  True  True  True  True  True  True  True  True  True  True\n",
      "  True  True  True  True  True  True  True  True  True  True  True  True\n",
      "  True  True  True  True  True  True  True  True  True  True  True  True\n",
      "  True  True  True  True  True  True  True  True  True  True  True  True\n",
      "  True  True  True  True  True  True  True  True  True  True  True  True\n",
      "  True  True  True  True  True  True  True  True  True  True  True  True\n",
      "  True  True  True  True  True  True  True  True  True  True  True  True\n",
      "  True  True  True  True  True  True  True  True  True  True  True  True\n",
      "  True  True  True  True  True  True  True  True  True  True  True  True\n",
      "  True  True  True  True  True  True  True  True  True  True  True  True\n",
      "  True  True  True  True  True  True  True  True  True  True  True  True\n",
      "  True  True  True  True  True  True  True  True  True  True  True  True\n",
      "  True  True  True  True  True  True  True  True  True  True  True  True\n",
      "  True  True  True  True  True  True  True  True  True  True  True  True\n",
      "  True  True  True  True  True  True  True  True  True  True  True  True\n",
      "  True  True  True  True  True  True  True  True  True  True  True  True\n",
      "  True  True  True  True  True  True  True  True  True  True  True  True\n",
      "  True  True  True  True  True  True  True  True  True  True  True  True\n",
      "  True  True  True  True  True  True  True  True  True  True  True  True\n",
      "  True  True  True  True  True  True  True  True  True  True  True  True\n",
      "  True  True  True  True  True  True  True  True  True  True  True  True\n",
      "  True  True  True  True  True  True  True  True  True  True  True  True\n",
      "  True  True  True  True  True  True  True  True  True  True  True  True\n",
      "  True  True  True  True  True  True  True  True  True  True  True  True\n",
      "  True  True  True  True  True  True  True  True  True  True  True  True\n",
      "  True  True  True  True  True  True  True  True  True  True  True  True\n",
      "  True  True  True  True  True  True  True  True  True  True  True  True\n",
      "  True  True  True  True  True  True  True  True  True  True  True  True\n",
      "  True  True  True  True  True  True  True False False False False False\n",
      " False False False False False False False False False False False False\n",
      " False False False False False False False False False False False False\n",
      " False False False False False False False False False False False False\n",
      " False False False False False False False False False False False False\n",
      " False False False False False False False False False False False False\n",
      " False False False False False False False False False False False False\n",
      " False False False False False False False False False False False False\n",
      " False False False False False False False False False False False False\n",
      " False False False False False False False False False False False False\n",
      " False False False False False False False False False False False False]\n",
      "[   0    4    8   12   16   20   24   28   32   36   40   44   48   52\n",
      "   56   60   64   68   72   76   80   84   88   92   96  100  104  108\n",
      "  112  116  120  124  128  132  136  140  144  148  152  156  160  164\n",
      "  168  172  176  180  184  188  192  196  200  204  208  212  216  220\n",
      "  224  228  232  236  240  244  248  252  256  260  264  268  272  276\n",
      "  280  284  288  292  296  300  304  308  312  316  320  324  328  332\n",
      "  336  340  344  348  352  356  360  364  368  372  376  380  384  388\n",
      "  392  396  400  404  408  412  416  420  424  428  432  436  440  444\n",
      "  448  452  456  460  464  468  472  476  480  484  488  492  496  500\n",
      "  504  508  512  516  520  524  528  532  536  540  544  548  552  556\n",
      "  560  564  568  572  576  580  584  588  592  596  600  604  608  612\n",
      "  616  620  624  628  632  636  640  644  648  652  656  660  664  668\n",
      "  672  676  680  684  688  692  696  700  704  708  712  716  720  724\n",
      "  728  732  736  740  744  748  752  756  760  764  768  772  776  780\n",
      "  784  788  792  796  800  804  808  812  816  820  824  828  832  836\n",
      "  840  844  848  852  856  860  864  868  872  876  880  884  888  892\n",
      "  896  900  904  908  912  916  920  924  928  932  936  940  944  948\n",
      "  952  956  960  964  968  972  976  980  984  988  992  996 1000 1004\n",
      " 1008 1012 1016 1020 1024 1028 1032 1036 1040 1044 1048 1052 1056 1060\n",
      " 1064 1068 1072 1076 1080 1084 1088 1092 1096 1100 1104 1108 1112 1116\n",
      " 1120 1124 1128 1132 1136 1140 1144 1148 1152 1156 1160 1164 1168 1172\n",
      " 1176 1180 1184 1188 1192 1196 1200 1204 1208 1212 1216 1220 1224 1228\n",
      " 1232 1236 1240 1244 1248 1252 1256 1260 1264 1268 1272 1276 1280 1284\n",
      " 1288 1292 1296 1300 1304 1308 1312 1316 1320 1324 1328 1332 1336 1340\n",
      " 1344 1348 1352 1356 1360 1364 1368 1372 1376 1380 1384 1388 1392 1396\n",
      " 1400 1404 1408 1412 1416 1420 1424 1428 1432 1436 1440 1444 1448 1452\n",
      " 1456 1460 1464 1468 1472 1476 1480 1484 1488 1492 1496 1500 1504 1508\n",
      " 1512 1516 1520 1524 1528 1532 1536 1540 1544 1548 1552 1556 1560 1564\n",
      " 1568 1572 1576 1580 1584 1588 1592 1596 1600 1604 1608 1612 1616 1620\n",
      " 1624 1628 1632 1636 1640 1644 1648 1652 1656 1660 1664 1668 1672 1676\n",
      " 1680 1684 1688 1692 1696 1700 1704 1708 1712 1716 1720 1724 1728 1732\n",
      " 1736 1740 1744 1748 1752 1756 1760 1764 1768 1772 1776 1780 1784 1788\n",
      " 1792 1796 1800 1804 1808 1812 1816 1820 1824 1828 1832 1836 1840 1844\n",
      " 1848 1852 1856 1860 1864 1868 1872 1876 1880 1884 1888 1892 1896 1900\n",
      " 1904 1908 1912 1916 1920 1924 1928 1932 1936 1940 1944 1948 1952 1956\n",
      " 1960 1964 1968 1972 1976 1980 1984 1988 1992 1996 2000]\n",
      "[[-11.92530752 -14.45759505 -13.48590332 ... -13.3165934   -8.50966389\n",
      "  -17.38739282]\n",
      " [ 13.39020641  18.50631056  24.45424172 ...  14.48704025  10.9388932\n",
      "   -0.7876592 ]\n",
      " [ 21.03859809  -5.24860757 -18.17505202 ...  29.83535271  40.58285208\n",
      "   36.51941396]\n",
      " ...\n",
      " [-59.69278932 -39.87616719 -24.76341636 ... -23.24698837 -23.54880171\n",
      "  -31.97749128]\n",
      " [ 10.08498229   6.10987978   0.88335611 ... -19.98593205 -11.19653873\n",
      "    4.89526512]\n",
      " [-23.23226577 -22.00292851 -30.88801874 ...  23.54880171  14.17786561\n",
      "   27.22945218]]\n"
     ]
    }
   ],
   "source": [
    "\n",
    "timeIndex = (tx>=0) & (tx<=2000) # useful for indexing things of the same length later\n",
    "print(timeIndex)\n",
    "\n",
    "tSeries = tx[timeIndex] # use this to keep the time values \n",
    "print(tSeries)\n",
    "\n",
    "positiveData = data[:,timeIndex] \n",
    "# need two expressions to specify what's happening in each column dimension. two columns in this case.\n",
    "# collects from the data array when the boolean array (timeIndex) is true.\n",
    "print(positiveData)\n",
    "\n",
    "\n"
   ]
  },
  {
   "cell_type": "code",
   "execution_count": 34,
   "metadata": {},
   "outputs": [
    {
     "name": "stdout",
     "output_type": "stream",
     "text": [
      "[[-4.59033059e+03+0.00000000e+00j -1.17147890e+03-5.59406802e+02j\n",
      "  -8.48730564e+02+2.93650804e+02j ...  2.94276860e+01+4.71806812e+00j\n",
      "  -4.10295254e+00+1.97059179e+01j -2.76202149e+01-2.74895771e+00j]\n",
      " [ 2.62213956e+03+0.00000000e+00j  8.98416414e+02-1.06070376e+03j\n",
      "  -4.82406989e+02+1.06511877e+02j ...  8.12798590e+00-9.34529943e+00j\n",
      "  -6.78055179e+01-2.17197103e+00j -2.01087016e+00-1.06539780e+01j]\n",
      " [ 1.69518246e+04+0.00000000e+00j -1.75048156e+02+1.89423942e+03j\n",
      "  -1.24032473e+03+4.03077261e+02j ...  5.38324313e+01-3.94148868e+01j\n",
      "  -1.40811895e+01-1.66976313e+01j  1.39950010e+01-4.98166962e+01j]\n",
      " ...\n",
      " [-3.10266320e+03+0.00000000e+00j  1.29597916e+02-2.02188122e+03j\n",
      "  -7.77939051e+02-3.75035550e+02j ...  2.81396548e+01-3.83512524e+00j\n",
      "  -1.66611333e+01-2.01237991e+01j -3.83111137e+01+2.72540360e+01j]\n",
      " [ 3.97098018e+03+0.00000000e+00j  1.47539951e+03-1.97643558e+03j\n",
      "  -3.65294912e+02-1.17631323e+03j ...  4.37724333e+00-3.36097321e+00j\n",
      "  -2.31613773e+00+1.69798588e+00j -2.32126084e+01-1.02208325e+01j]\n",
      " [ 3.67063910e+02+0.00000000e+00j  3.19397560e+03-8.71133188e+02j\n",
      "  -9.76270286e+01-5.75417143e+02j ... -4.58391223e-01-5.64442269e+01j\n",
      "  -5.39103653e+01-3.26952503e+01j -2.28515422e+01-2.85388736e+01j]]\n"
     ]
    }
   ],
   "source": [
    "# to fft this\n",
    "\n",
    "fftData = np.fft.rfft(positiveData)\n",
    "\n",
    "print(fftData)\n"
   ]
  },
  {
   "cell_type": "markdown",
   "metadata": {},
   "source": [
    "## Do the FFT on the data averaged across trials (so first avg, then FFT)"
   ]
  },
  {
   "cell_type": "code",
   "execution_count": 37,
   "metadata": {},
   "outputs": [
    {
     "data": {
      "text/plain": [
       "876"
      ]
     },
     "execution_count": 37,
     "metadata": {},
     "output_type": "execute_result"
    }
   ],
   "source": [
    "len(meanEEG)"
   ]
  },
  {
   "cell_type": "markdown",
   "metadata": {},
   "source": [
    "## Now lets look at a few frequency segments to see what is going on\n",
    "* First plot just the frequencies in between 55 and 65Hz (use boolean indexing)\n",
    "* Then look at the frequencies in between 5 and 20Hz"
   ]
  },
  {
   "cell_type": "code",
   "execution_count": null,
   "metadata": {},
   "outputs": [],
   "source": []
  },
  {
   "cell_type": "code",
   "execution_count": null,
   "metadata": {},
   "outputs": [],
   "source": []
  },
  {
   "cell_type": "markdown",
   "metadata": {},
   "source": [
    "## Remember what the above plots look like, and then do something that *seems* just a little different\n",
    "* FFT each trial \n",
    "* Then compute the amplitude on each trial\n",
    "* Then compute the average amplitude across all trials\n",
    "* Then plot like you did above - first over all frequs, then zoom in and plot the 55-65hz window and the 5-20Hz window \n",
    "* To make this work, note that np.fft.rfft can operate on the entire data matrix at once. You should ALWAYS specify the axis that you want the FFT to work over (in this case the time axis, or axis 1). np.fft.rfft will default to the LAST axis if you specify nothing, which in this case is ok but it would totally NOT be ok if your data were transposed\n",
    "* hint: handy to store the shape of the data matrix before you do all this so that you can pass in the number of timepoints to the amplitude normalization function and the freq-axis function. e.g. r,c = data.shape\n",
    "\n",
    "[np.fft.rfft documentation](https://docs.scipy.org/doc/numpy-1.15.1/reference/generated/numpy.fft.rfft.html)"
   ]
  },
  {
   "cell_type": "code",
   "execution_count": null,
   "metadata": {},
   "outputs": [],
   "source": []
  },
  {
   "cell_type": "code",
   "execution_count": null,
   "metadata": {},
   "outputs": [],
   "source": []
  },
  {
   "cell_type": "code",
   "execution_count": null,
   "metadata": {},
   "outputs": [],
   "source": []
  },
  {
   "cell_type": "markdown",
   "metadata": {},
   "source": [
    "## Now compare the plots you got just now (FFT each trial, then compute amp, then average) with the plots you got when you averaged in time domain first and THEN did the FFT. Why are they different?\n",
    "* hint: think about phase..."
   ]
  },
  {
   "cell_type": "markdown",
   "metadata": {},
   "source": [
    "## Switch to a new data set...load eeg_data01.npz. To make it easy I renamed all the variables in this data set to match the var names in the last data set (data, sr, tx)"
   ]
  },
  {
   "cell_type": "code",
   "execution_count": null,
   "metadata": {},
   "outputs": [],
   "source": [
    "# load the data...\n",
    "eeg = np.load('eeg_data01.npz')\n",
    "\n",
    "# get the different arrays like this...kind of like a structure in matlab. \n",
    "eeg['data']\n",
    "eeg['sr']\n",
    "eeg['tx']\n",
    "\n",
    "# and can query the attributes of the data like this...which will tell us that there 1600 trials and 4102 timepoints per trial sampled\n",
    "# at 1024Hz\n",
    "print('Shape of the big eeg data set: ', eeg['data'].shape)\n",
    "print('Sample rate: ', eeg['sr'])\n",
    "\n",
    "# and if you want to save some typing, especially because we only have a few variables, you reassign the different arrays like this\n",
    "data = eeg['data']\n",
    "sr = eeg['sr']\n",
    "tx = eeg['tx']"
   ]
  },
  {
   "cell_type": "markdown",
   "metadata": {},
   "source": [
    "## Plot the data, just like we did above"
   ]
  },
  {
   "cell_type": "code",
   "execution_count": null,
   "metadata": {},
   "outputs": [],
   "source": []
  },
  {
   "cell_type": "markdown",
   "metadata": {},
   "source": [
    "## Now segment the data from time 0 to time 1753 and plot to make sure it looks right"
   ]
  },
  {
   "cell_type": "code",
   "execution_count": null,
   "metadata": {},
   "outputs": [],
   "source": []
  },
  {
   "cell_type": "markdown",
   "metadata": {},
   "source": [
    "## Next:\n",
    "* compute the FFT of the data on each trial\n",
    "* then compute the amp on each trial\n",
    "* then plot the average amplitude over a window from 12Hz to 35Hz"
   ]
  },
  {
   "cell_type": "code",
   "execution_count": null,
   "metadata": {},
   "outputs": [],
   "source": []
  },
  {
   "cell_type": "markdown",
   "metadata": {},
   "source": [
    "## Not much going on...so now \n",
    "* average the data in the time domain (i.e. avg across all trials)\n",
    "* then FFT, compute amp, then plot over the same window"
   ]
  },
  {
   "cell_type": "code",
   "execution_count": null,
   "metadata": {},
   "outputs": [],
   "source": []
  },
  {
   "cell_type": "markdown",
   "metadata": {},
   "source": [
    "## now what do you see? \n",
    "* what can infer about the experiment based on the difference in the amplitude spectrum from the two different methods (FFT all trials, then convert to amp, then average versus Average in time domain, then FFT and then compute amp)"
   ]
  }
 ],
 "metadata": {
  "kernelspec": {
   "display_name": "Python 3",
   "language": "python",
   "name": "python3"
  },
  "language_info": {
   "codemirror_mode": {
    "name": "ipython",
    "version": 3
   },
   "file_extension": ".py",
   "mimetype": "text/x-python",
   "name": "python",
   "nbconvert_exporter": "python",
   "pygments_lexer": "ipython3",
   "version": "3.7.0"
  }
 },
 "nbformat": 4,
 "nbformat_minor": 2
}
