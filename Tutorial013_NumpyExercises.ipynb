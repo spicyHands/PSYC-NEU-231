{
 "cells": [
  {
   "cell_type": "markdown",
   "metadata": {},
   "source": [
    "## EXERCISES\n",
    "\n",
    "### Vector Multiplication\n",
    "1. Produce 2 vectors, one with integers in the range [5,10] and the other [15,20] using the np.arange function\n",
    "1. Without using any functions from the numpy module\n",
    "    1. Compute the outer product of those vectors \n",
    "    1. Compute the \"trace\" of the resulting matrix\n",
    "    \n",
    "    ![trace](https://wikimedia.org/api/rest_v1/media/math/render/svg/3e5b6e82272fc5eeca6d510388e0a2bd0a6c6463)\n",
    "    \n",
    "    \n",
    "Complete the same items using numpy operations"
   ]
  },
  {
   "cell_type": "markdown",
   "metadata": {},
   "source": [
    "# 1: make the vectors"
   ]
  },
  {
   "cell_type": "code",
   "execution_count": 1,
   "metadata": {},
   "outputs": [],
   "source": [
    "import numpy as np"
   ]
  },
  {
   "cell_type": "code",
   "execution_count": 36,
   "metadata": {
    "scrolled": true
   },
   "outputs": [
    {
     "data": {
      "text/plain": [
       "(array([5, 6, 7, 8, 9]), array([15, 16, 17, 18, 19]))"
      ]
     },
     "execution_count": 36,
     "metadata": {},
     "output_type": "execute_result"
    }
   ],
   "source": [
    "a = np.arange(5,10)\n",
    "b = np.arange(15,20)\n",
    "\n",
    "a, b"
   ]
  },
  {
   "cell_type": "markdown",
   "metadata": {},
   "source": [
    "# non-numpy: outerprod and trace"
   ]
  },
  {
   "cell_type": "code",
   "execution_count": 40,
   "metadata": {},
   "outputs": [
    {
     "data": {
      "text/plain": [
       "[[75, 80, 85, 90, 95],\n",
       " [90, 96, 102, 108, 114],\n",
       " [105, 112, 119, 126, 133],\n",
       " [120, 128, 136, 144, 152],\n",
       " [135, 144, 153, 162, 171]]"
      ]
     },
     "execution_count": 40,
     "metadata": {},
     "output_type": "execute_result"
    }
   ],
   "source": [
    "# outer product\n",
    "\n",
    "def findOuterProd_dc(vec1, vec2):\n",
    "    outerProd = [] # initialize empty list\n",
    "    # check to make sure lists are same length\n",
    "    if (len(vec1)!=len(vec2)):\n",
    "        out='lists must be same length'\n",
    "    else:\n",
    "        for i in range(len(vec1)): #iterate through vec1\n",
    "            row = [] #empty list to be populated\n",
    "            for j in range(len(vec2)): #iterate through vec2\n",
    "                row.append(vec1[i]*vec2[j]) #populate row which is each member of vec2*i'th element of vec1\n",
    "            outerProd.append(row) #append each multiplied row to the big vector outerProd..\n",
    "        out = outerProd\n",
    "    return out\n",
    "\n",
    "findOuterProd_dc(a, b)"
   ]
  },
  {
   "cell_type": "code",
   "execution_count": 41,
   "metadata": {},
   "outputs": [
    {
     "data": {
      "text/plain": [
       "605"
      ]
     },
     "execution_count": 41,
     "metadata": {},
     "output_type": "execute_result"
    }
   ],
   "source": [
    "# compute \"trace\"\n",
    "def findTrace_dc(vec):\n",
    "    dimension = len(vec)\n",
    "    diagonalSum=0 #initialize diagonal sum\n",
    "    for i in range(0,dimension):\n",
    "        diagonalSum += vec[i][i]\n",
    "    return diagonalSum\n",
    "findTrace_dc(outerProd)"
   ]
  },
  {
   "cell_type": "markdown",
   "metadata": {},
   "source": [
    "# numpy: outerprod and trace"
   ]
  },
  {
   "cell_type": "code",
   "execution_count": 42,
   "metadata": {},
   "outputs": [
    {
     "data": {
      "text/plain": [
       "array([[ 75,  80,  85,  90,  95],\n",
       "       [ 90,  96, 102, 108, 114],\n",
       "       [105, 112, 119, 126, 133],\n",
       "       [120, 128, 136, 144, 152],\n",
       "       [135, 144, 153, 162, 171]])"
      ]
     },
     "execution_count": 42,
     "metadata": {},
     "output_type": "execute_result"
    }
   ],
   "source": [
    "# outer product using numpy\n",
    "outerProdNP = np.outer(a,b)\n",
    "outerProdNP"
   ]
  },
  {
   "cell_type": "code",
   "execution_count": 49,
   "metadata": {},
   "outputs": [
    {
     "data": {
      "text/plain": [
       "605"
      ]
     },
     "execution_count": 49,
     "metadata": {},
     "output_type": "execute_result"
    }
   ],
   "source": [
    "# compute \"trace\" using numpy\n",
    "def findTraceNumpy_dc(vec):\n",
    "    rowCount = vec.shape[0]\n",
    "    colCount = vec.shape[1]\n",
    "    if rowCount==colCount:\n",
    "        diagonalSum=0 #initialize diagonal sum\n",
    "        for i in range(0,rowCount):\n",
    "            diagonalSum += vec[i][i]\n",
    "    else:\n",
    "        out = 'need square matrix!'\n",
    "    out=diagonalSum\n",
    "    return out\n",
    "\n",
    "findTraceNumpy_dc(outerProdNP)"
   ]
  },
  {
   "cell_type": "markdown",
   "metadata": {},
   "source": [
    "### Matrix Multiplication\n",
    "* Two matricies can be multiplied if their inner dimensions match (eg. 2x3 * 3x5 -> 2x5). The best rule for working with and mutliplying matricies is to remember (rows x columns). This applies to both the dimensions of a matrix (a 2x3 matrix has 2 rows and 3 columns) as well as multiplication (you multiply the rows of the first matrix by the columns of the second). \n",
    "\n",
    "* When multiplying two matricies of dimension (M x N)*(N x P) the resulting matrix is (M x P). The upper element of the resulting matrix is the inner (or dot) product of the first row of the first matrix and the first column of the second matrix\n",
    "\n",
    "![two matrices](https://wikimedia.org/api/rest_v1/media/math/render/svg/16b1644351bc2041175b19cbc65da03ef78130c7)\n",
    "\n",
    "![store product in matrix C](https://wikimedia.org/api/rest_v1/media/math/render/svg/00ac0c831c365b7424cc43239aae8cebea27c56c)\n",
    "\n",
    "![matrix multiply](https://wikimedia.org/api/rest_v1/media/math/render/svg/3cfeccef1c8c7e6da0ddf08daed8dbf3c6f50c5e)\n",
    "\n",
    "for i = 1, ..., n and j = 1, ..., p.\n",
    "\n",
    "1. Make two matrices of random numbers (A and B). A should be a 4x3 matrix and B should be a 3x4 matrix. Multiply A by B using (to a resulting matrix C) using:\n",
    "    1. a conventional for-loop\n",
    "    1. list comprehension\n",
    "    1. numpy operator\n",
    "    \n",
    "2. After you have C, pull out the upper quadrant using fancy indexing, and then replace the main diagonal (upper left to lower right) with 0s. "
   ]
  },
  {
   "cell_type": "code",
   "execution_count": 60,
   "metadata": {
    "scrolled": true
   },
   "outputs": [
    {
     "name": "stdout",
     "output_type": "stream",
     "text": [
      "A:\n",
      " [[18. 19.  4.]\n",
      " [ 9. 14.  3.]\n",
      " [ 7.  3. 14.]\n",
      " [ 1. 18. 18.]] \n",
      "B:\n",
      " [[ 8. 12. 14. 14.]\n",
      " [15. 13.  3. 11.]\n",
      " [ 9.  0. 20. 14.]]\n"
     ]
    }
   ],
   "source": [
    "# generate a matrix(rows,cols) of uniformly distributed random numbers over 0:20\n",
    "A = np.round(np.random.rand(4,3)*20)   \n",
    "B = np.round(np.random.rand(3,4)*20)\n",
    "\n",
    "print(\"A:\\n\", A, \"\\nB:\\n\",B)"
   ]
  },
  {
   "cell_type": "markdown",
   "metadata": {},
   "source": [
    "# AB: for-loop"
   ]
  },
  {
   "cell_type": "code",
   "execution_count": null,
   "metadata": {},
   "outputs": [],
   "source": []
  },
  {
   "cell_type": "markdown",
   "metadata": {},
   "source": [
    "# AB: list comprehension"
   ]
  },
  {
   "cell_type": "code",
   "execution_count": null,
   "metadata": {},
   "outputs": [],
   "source": []
  },
  {
   "cell_type": "markdown",
   "metadata": {},
   "source": [
    "# AB: numpy"
   ]
  },
  {
   "cell_type": "code",
   "execution_count": null,
   "metadata": {},
   "outputs": [],
   "source": []
  }
 ],
 "metadata": {
  "kernelspec": {
   "display_name": "Python 3",
   "language": "python",
   "name": "python3"
  },
  "language_info": {
   "codemirror_mode": {
    "name": "ipython",
    "version": 3
   },
   "file_extension": ".py",
   "mimetype": "text/x-python",
   "name": "python",
   "nbconvert_exporter": "python",
   "pygments_lexer": "ipython3",
   "version": "3.7.0"
  }
 },
 "nbformat": 4,
 "nbformat_minor": 2
}
